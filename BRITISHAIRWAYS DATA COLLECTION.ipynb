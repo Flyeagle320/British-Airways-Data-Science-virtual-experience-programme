{
 "cells": [
  {
   "cell_type": "markdown",
   "id": "a0eb6e0c",
   "metadata": {},
   "source": [
    "# Data Collection"
   ]
  },
  {
   "cell_type": "code",
   "execution_count": 3,
   "id": "a0be3f4a",
   "metadata": {},
   "outputs": [],
   "source": [
    "from bs4 import BeautifulSoup\n",
    "import requests\n",
    "import pandas as pd\n",
    "import numpy as np"
   ]
  },
  {
   "cell_type": "code",
   "execution_count": 4,
   "id": "9db43858",
   "metadata": {},
   "outputs": [],
   "source": [
    "\n",
    "#Empty list for all review\n",
    "reviews  = []\n",
    "\n",
    "#Empty list for star provided\n",
    "stars = []\n",
    "\n",
    "#Empty list for date\n",
    "date = []\n",
    "\n",
    "#Empty list for review country\n",
    "country = []"
   ]
  },
  {
   "cell_type": "code",
   "execution_count": 11,
   "id": "8be966bd",
   "metadata": {},
   "outputs": [
    {
     "name": "stdout",
     "output_type": "stream",
     "text": [
      "Error on page 29\n",
      "Error on page 31\n",
      "Error on page 31\n",
      "Error on page 33\n",
      "Error on page 34\n"
     ]
    }
   ],
   "source": [
    "for i in range(1, 36):\n",
    "    page = requests.get(f\"https://www.airlinequality.com/airline-reviews/british-airways/page/{i}/?sortby=post_date%3ADesc&pagesize=100\")\n",
    "    \n",
    "    soup = BeautifulSoup(page.content, \"html5\")\n",
    "    \n",
    "    for item in soup.find_all(\"div\", class_=\"text_content\"):\n",
    "        reviews.append(item.text)\n",
    "    \n",
    "    for item in soup.find_all(\"div\", class_ = \"rating-10\"):\n",
    "        try:\n",
    "            stars.append(item.span.text)\n",
    "        except:\n",
    "            print(f\"Error on page {i}\")\n",
    "            stars.append(\"None\")\n",
    "            \n",
    "    #date\n",
    "    for item in soup.find_all(\"time\"):\n",
    "        date.append(item.text)\n",
    "        \n",
    "    #review country\n",
    "    for item in soup.find_all(\"h3\"):\n",
    "        country.append(item.span.next_sibling.text.strip(\"()\"))"
   ]
  },
  {
   "cell_type": "code",
   "execution_count": 12,
   "id": "bda1d324",
   "metadata": {},
   "outputs": [
    {
     "data": {
      "text/plain": [
       "6922"
      ]
     },
     "execution_count": 12,
     "metadata": {},
     "output_type": "execute_result"
    }
   ],
   "source": [
    "len(reviews)"
   ]
  },
  {
   "cell_type": "code",
   "execution_count": 13,
   "id": "dae09632",
   "metadata": {},
   "outputs": [
    {
     "data": {
      "text/plain": [
       "6922"
      ]
     },
     "execution_count": 13,
     "metadata": {},
     "output_type": "execute_result"
    }
   ],
   "source": [
    "len(country)"
   ]
  },
  {
   "cell_type": "code",
   "execution_count": 14,
   "id": "3f7bd1ca",
   "metadata": {},
   "outputs": [],
   "source": [
    "stars = stars[:6922] "
   ]
  },
  {
   "cell_type": "code",
   "execution_count": 15,
   "id": "a52e4cd9",
   "metadata": {},
   "outputs": [
    {
     "data": {
      "text/plain": [
       "6922"
      ]
     },
     "execution_count": 15,
     "metadata": {},
     "output_type": "execute_result"
    }
   ],
   "source": [
    "len(stars)"
   ]
  },
  {
   "cell_type": "code",
   "execution_count": 16,
   "id": "e40f1de8",
   "metadata": {},
   "outputs": [],
   "source": [
    "#creating dataframe for data scraped#\n",
    "BA_rev = pd.DataFrame({\"reviews\":reviews,\"stars\": stars, \"date\":date, \"country\": country})"
   ]
  },
  {
   "cell_type": "code",
   "execution_count": 17,
   "id": "0dadffd7",
   "metadata": {},
   "outputs": [
    {
     "data": {
      "text/html": [
       "<div>\n",
       "<style scoped>\n",
       "    .dataframe tbody tr th:only-of-type {\n",
       "        vertical-align: middle;\n",
       "    }\n",
       "\n",
       "    .dataframe tbody tr th {\n",
       "        vertical-align: top;\n",
       "    }\n",
       "\n",
       "    .dataframe thead th {\n",
       "        text-align: right;\n",
       "    }\n",
       "</style>\n",
       "<table border=\"1\" class=\"dataframe\">\n",
       "  <thead>\n",
       "    <tr style=\"text-align: right;\">\n",
       "      <th></th>\n",
       "      <th>reviews</th>\n",
       "      <th>stars</th>\n",
       "      <th>date</th>\n",
       "      <th>country</th>\n",
       "    </tr>\n",
       "  </thead>\n",
       "  <tbody>\n",
       "    <tr>\n",
       "      <th>0</th>\n",
       "      <td>✅ Trip Verified |  This flight was one of the ...</td>\n",
       "      <td>\\n\\t\\t\\t\\t\\t\\t\\t\\t\\t\\t\\t\\t\\t5</td>\n",
       "      <td>21st January 2023</td>\n",
       "      <td>(United Kingdom)</td>\n",
       "    </tr>\n",
       "    <tr>\n",
       "      <th>1</th>\n",
       "      <td>Not Verified | It seems that there is a race t...</td>\n",
       "      <td>2</td>\n",
       "      <td>19th January 2023</td>\n",
       "      <td>(United States)</td>\n",
       "    </tr>\n",
       "    <tr>\n",
       "      <th>2</th>\n",
       "      <td>Not Verified |  As a Spanish born individual l...</td>\n",
       "      <td>3</td>\n",
       "      <td>19th January 2023</td>\n",
       "      <td>(United Kingdom)</td>\n",
       "    </tr>\n",
       "    <tr>\n",
       "      <th>3</th>\n",
       "      <td>✅ Trip Verified |  A rather empty and quiet fl...</td>\n",
       "      <td>2</td>\n",
       "      <td>18th January 2023</td>\n",
       "      <td>(United Kingdom)</td>\n",
       "    </tr>\n",
       "    <tr>\n",
       "      <th>4</th>\n",
       "      <td>✅ Trip Verified |  Easy check in and staff mem...</td>\n",
       "      <td>9</td>\n",
       "      <td>17th January 2023</td>\n",
       "      <td>(United Kingdom)</td>\n",
       "    </tr>\n",
       "  </tbody>\n",
       "</table>\n",
       "</div>"
      ],
      "text/plain": [
       "                                             reviews  \\\n",
       "0  ✅ Trip Verified |  This flight was one of the ...   \n",
       "1  Not Verified | It seems that there is a race t...   \n",
       "2  Not Verified |  As a Spanish born individual l...   \n",
       "3  ✅ Trip Verified |  A rather empty and quiet fl...   \n",
       "4  ✅ Trip Verified |  Easy check in and staff mem...   \n",
       "\n",
       "                           stars               date             country  \n",
       "0  \\n\\t\\t\\t\\t\\t\\t\\t\\t\\t\\t\\t\\t\\t5  21st January 2023   (United Kingdom)   \n",
       "1                              2  19th January 2023    (United States)   \n",
       "2                              3  19th January 2023   (United Kingdom)   \n",
       "3                              2  18th January 2023   (United Kingdom)   \n",
       "4                              9  17th January 2023   (United Kingdom)   "
      ]
     },
     "execution_count": 17,
     "metadata": {},
     "output_type": "execute_result"
    }
   ],
   "source": [
    "BA_rev.head()"
   ]
  },
  {
   "cell_type": "code",
   "execution_count": 18,
   "id": "538cca87",
   "metadata": {},
   "outputs": [],
   "source": [
    "#converting to csv for further analysis\n",
    "import os\n",
    "\n",
    "cwd = os.getcwd()\n",
    "BA_rev.to_csv(cwd+ \"/BA_reviews.csv\")"
   ]
  },
  {
   "cell_type": "code",
   "execution_count": null,
   "id": "efd658a6",
   "metadata": {},
   "outputs": [],
   "source": []
  },
  {
   "cell_type": "code",
   "execution_count": null,
   "id": "92f1e763",
   "metadata": {},
   "outputs": [],
   "source": []
  },
  {
   "cell_type": "code",
   "execution_count": null,
   "id": "a6a250f8",
   "metadata": {},
   "outputs": [],
   "source": []
  },
  {
   "cell_type": "code",
   "execution_count": null,
   "id": "da76fc68",
   "metadata": {},
   "outputs": [],
   "source": []
  }
 ],
 "metadata": {
  "kernelspec": {
   "display_name": "Python 3 (ipykernel)",
   "language": "python",
   "name": "python3"
  },
  "language_info": {
   "codemirror_mode": {
    "name": "ipython",
    "version": 3
   },
   "file_extension": ".py",
   "mimetype": "text/x-python",
   "name": "python",
   "nbconvert_exporter": "python",
   "pygments_lexer": "ipython3",
   "version": "3.9.13"
  }
 },
 "nbformat": 4,
 "nbformat_minor": 5
}
