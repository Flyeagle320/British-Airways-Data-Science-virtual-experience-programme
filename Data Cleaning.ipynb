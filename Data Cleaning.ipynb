{
 "cells": [
  {
   "cell_type": "markdown",
   "id": "c3bc05f1",
   "metadata": {},
   "source": [
    "# Data Cleaning"
   ]
  },
  {
   "cell_type": "markdown",
   "id": "31588c22",
   "metadata": {},
   "source": [
    "- Now we have to clean the extract data . We have to see clean reviews section for spellings ,punctuations, symbols etc \n",
    "- Post that we will use technique called lemmatization from Nltk Library .\n",
    "- What is Lemmatization ?\n",
    " #### 'Lemmatization is a text normalization technique used in Natural Language Processing (NLP), that switches any kind of a word to its base root mode'\n"
   ]
  },
  {
   "cell_type": "markdown",
   "id": "6d8719c9",
   "metadata": {},
   "source": [
    "###### Importing Libraries"
   ]
  },
  {
   "cell_type": "code",
   "execution_count": 3,
   "id": "ba8b6e09",
   "metadata": {},
   "outputs": [],
   "source": [
    "import pandas as pd # for data manipulation\n",
    "import matplotlib.pyplot as plt #data visualization\n",
    "import seaborn as sns #advance data visualization\n",
    "import os \n",
    "import re #regular expression"
   ]
  },
  {
   "cell_type": "markdown",
   "id": "37d2ab67",
   "metadata": {},
   "source": [
    "##### Importing files"
   ]
  },
  {
   "cell_type": "code",
   "execution_count": 5,
   "id": "f78d6faa",
   "metadata": {},
   "outputs": [],
   "source": [
    "BA_clean= pd.read_csv(\"BA_reviews.csv\",index_col=0)"
   ]
  },
  {
   "cell_type": "code",
   "execution_count": 8,
   "id": "0d4feeee",
   "metadata": {},
   "outputs": [
    {
     "data": {
      "text/html": [
       "<div>\n",
       "<style scoped>\n",
       "    .dataframe tbody tr th:only-of-type {\n",
       "        vertical-align: middle;\n",
       "    }\n",
       "\n",
       "    .dataframe tbody tr th {\n",
       "        vertical-align: top;\n",
       "    }\n",
       "\n",
       "    .dataframe thead th {\n",
       "        text-align: right;\n",
       "    }\n",
       "</style>\n",
       "<table border=\"1\" class=\"dataframe\">\n",
       "  <thead>\n",
       "    <tr style=\"text-align: right;\">\n",
       "      <th></th>\n",
       "      <th>reviews</th>\n",
       "      <th>stars</th>\n",
       "      <th>date</th>\n",
       "      <th>country</th>\n",
       "    </tr>\n",
       "  </thead>\n",
       "  <tbody>\n",
       "    <tr>\n",
       "      <th>0</th>\n",
       "      <td>✅ Trip Verified |  This flight was one of the ...</td>\n",
       "      <td>\\n\\t\\t\\t\\t\\t\\t\\t\\t\\t\\t\\t\\t\\t5</td>\n",
       "      <td>21st January 2023</td>\n",
       "      <td>(United Kingdom)</td>\n",
       "    </tr>\n",
       "    <tr>\n",
       "      <th>1</th>\n",
       "      <td>Not Verified | It seems that there is a race t...</td>\n",
       "      <td>2</td>\n",
       "      <td>19th January 2023</td>\n",
       "      <td>(United States)</td>\n",
       "    </tr>\n",
       "    <tr>\n",
       "      <th>2</th>\n",
       "      <td>Not Verified |  As a Spanish born individual l...</td>\n",
       "      <td>3</td>\n",
       "      <td>19th January 2023</td>\n",
       "      <td>(United Kingdom)</td>\n",
       "    </tr>\n",
       "    <tr>\n",
       "      <th>3</th>\n",
       "      <td>✅ Trip Verified |  A rather empty and quiet fl...</td>\n",
       "      <td>2</td>\n",
       "      <td>18th January 2023</td>\n",
       "      <td>(United Kingdom)</td>\n",
       "    </tr>\n",
       "    <tr>\n",
       "      <th>4</th>\n",
       "      <td>✅ Trip Verified |  Easy check in and staff mem...</td>\n",
       "      <td>9</td>\n",
       "      <td>17th January 2023</td>\n",
       "      <td>(United Kingdom)</td>\n",
       "    </tr>\n",
       "    <tr>\n",
       "      <th>5</th>\n",
       "      <td>✅ Trip Verified |  Being a silver flyer and bo...</td>\n",
       "      <td>9</td>\n",
       "      <td>17th January 2023</td>\n",
       "      <td>(United Kingdom)</td>\n",
       "    </tr>\n",
       "    <tr>\n",
       "      <th>6</th>\n",
       "      <td>Not Verified |  I find BA incredibly tacky and...</td>\n",
       "      <td>1</td>\n",
       "      <td>16th January 2023</td>\n",
       "      <td>(United Kingdom)</td>\n",
       "    </tr>\n",
       "    <tr>\n",
       "      <th>7</th>\n",
       "      <td>✅ Trip Verified |  Flew ATL to LHR 8th Jan 202...</td>\n",
       "      <td>3</td>\n",
       "      <td>9th January 2023</td>\n",
       "      <td>(United Kingdom)</td>\n",
       "    </tr>\n",
       "    <tr>\n",
       "      <th>8</th>\n",
       "      <td>Not Verified |  Great thing about British Airw...</td>\n",
       "      <td>4</td>\n",
       "      <td>8th January 2023</td>\n",
       "      <td>(United Kingdom)</td>\n",
       "    </tr>\n",
       "    <tr>\n",
       "      <th>9</th>\n",
       "      <td>Not Verified | The staff are friendly. The pla...</td>\n",
       "      <td>5</td>\n",
       "      <td>6th January 2023</td>\n",
       "      <td>(Canada)</td>\n",
       "    </tr>\n",
       "  </tbody>\n",
       "</table>\n",
       "</div>"
      ],
      "text/plain": [
       "                                             reviews  \\\n",
       "0  ✅ Trip Verified |  This flight was one of the ...   \n",
       "1  Not Verified | It seems that there is a race t...   \n",
       "2  Not Verified |  As a Spanish born individual l...   \n",
       "3  ✅ Trip Verified |  A rather empty and quiet fl...   \n",
       "4  ✅ Trip Verified |  Easy check in and staff mem...   \n",
       "5  ✅ Trip Verified |  Being a silver flyer and bo...   \n",
       "6  Not Verified |  I find BA incredibly tacky and...   \n",
       "7  ✅ Trip Verified |  Flew ATL to LHR 8th Jan 202...   \n",
       "8  Not Verified |  Great thing about British Airw...   \n",
       "9  Not Verified | The staff are friendly. The pla...   \n",
       "\n",
       "                           stars               date             country  \n",
       "0  \\n\\t\\t\\t\\t\\t\\t\\t\\t\\t\\t\\t\\t\\t5  21st January 2023   (United Kingdom)   \n",
       "1                              2  19th January 2023    (United States)   \n",
       "2                              3  19th January 2023   (United Kingdom)   \n",
       "3                              2  18th January 2023   (United Kingdom)   \n",
       "4                              9  17th January 2023   (United Kingdom)   \n",
       "5                              9  17th January 2023   (United Kingdom)   \n",
       "6                              1  16th January 2023   (United Kingdom)   \n",
       "7                              3   9th January 2023   (United Kingdom)   \n",
       "8                              4   8th January 2023   (United Kingdom)   \n",
       "9                              5   6th January 2023           (Canada)   "
      ]
     },
     "execution_count": 8,
     "metadata": {},
     "output_type": "execute_result"
    }
   ],
   "source": [
    "BA_clean.head(10) #top 5 in columns"
   ]
  },
  {
   "cell_type": "code",
   "execution_count": 10,
   "id": "e3ac08d9",
   "metadata": {},
   "outputs": [
    {
     "data": {
      "text/html": [
       "<div>\n",
       "<style scoped>\n",
       "    .dataframe tbody tr th:only-of-type {\n",
       "        vertical-align: middle;\n",
       "    }\n",
       "\n",
       "    .dataframe tbody tr th {\n",
       "        vertical-align: top;\n",
       "    }\n",
       "\n",
       "    .dataframe thead th {\n",
       "        text-align: right;\n",
       "    }\n",
       "</style>\n",
       "<table border=\"1\" class=\"dataframe\">\n",
       "  <thead>\n",
       "    <tr style=\"text-align: right;\">\n",
       "      <th></th>\n",
       "      <th>reviews</th>\n",
       "      <th>stars</th>\n",
       "      <th>date</th>\n",
       "      <th>country</th>\n",
       "    </tr>\n",
       "  </thead>\n",
       "  <tbody>\n",
       "    <tr>\n",
       "      <th>6912</th>\n",
       "      <td>LHR-HKG on Boeing 747 - 23/08/12. Much has bee...</td>\n",
       "      <td>10</td>\n",
       "      <td>29th August 2012</td>\n",
       "      <td>(United Kingdom)</td>\n",
       "    </tr>\n",
       "    <tr>\n",
       "      <th>6913</th>\n",
       "      <td>Just got back from Bridgetown Barbados flying ...</td>\n",
       "      <td>7</td>\n",
       "      <td>29th August 2012</td>\n",
       "      <td>(United Kingdom)</td>\n",
       "    </tr>\n",
       "    <tr>\n",
       "      <th>6914</th>\n",
       "      <td>LHR-JFK-LAX-LHR. Check in was ok apart from be...</td>\n",
       "      <td>5</td>\n",
       "      <td>29th August 2012</td>\n",
       "      <td>(United Kingdom)</td>\n",
       "    </tr>\n",
       "    <tr>\n",
       "      <th>6915</th>\n",
       "      <td>HKG-LHR in New Club World on Boeing 777-300 - ...</td>\n",
       "      <td>2</td>\n",
       "      <td>29th August 2012</td>\n",
       "      <td>(United Kingdom)</td>\n",
       "    </tr>\n",
       "    <tr>\n",
       "      <th>6916</th>\n",
       "      <td>YYZ to LHR - July 2012 - I flew overnight in p...</td>\n",
       "      <td>9</td>\n",
       "      <td>29th August 2012</td>\n",
       "      <td>(Canada)</td>\n",
       "    </tr>\n",
       "    <tr>\n",
       "      <th>6917</th>\n",
       "      <td>Flew return in CW from LHR to BKK in August 20...</td>\n",
       "      <td>8</td>\n",
       "      <td>29th August 2012</td>\n",
       "      <td>(Ireland)</td>\n",
       "    </tr>\n",
       "    <tr>\n",
       "      <th>6918</th>\n",
       "      <td>LHR to HAM. Purser addresses all club passenge...</td>\n",
       "      <td>4</td>\n",
       "      <td>28th August 2012</td>\n",
       "      <td>(United Kingdom)</td>\n",
       "    </tr>\n",
       "    <tr>\n",
       "      <th>6919</th>\n",
       "      <td>My son who had worked for British Airways urge...</td>\n",
       "      <td>9</td>\n",
       "      <td>12th October 2011</td>\n",
       "      <td>(United Kingdom)</td>\n",
       "    </tr>\n",
       "    <tr>\n",
       "      <th>6920</th>\n",
       "      <td>London City-New York JFK via Shannon on A318 b...</td>\n",
       "      <td>1</td>\n",
       "      <td>11th October 2011</td>\n",
       "      <td>(United States)</td>\n",
       "    </tr>\n",
       "    <tr>\n",
       "      <th>6921</th>\n",
       "      <td>SIN-LHR BA12 B747-436 First Class. Old aircraf...</td>\n",
       "      <td>8</td>\n",
       "      <td>9th October 2011</td>\n",
       "      <td>(United Kingdom)</td>\n",
       "    </tr>\n",
       "  </tbody>\n",
       "</table>\n",
       "</div>"
      ],
      "text/plain": [
       "                                                reviews stars  \\\n",
       "6912  LHR-HKG on Boeing 747 - 23/08/12. Much has bee...    10   \n",
       "6913  Just got back from Bridgetown Barbados flying ...     7   \n",
       "6914  LHR-JFK-LAX-LHR. Check in was ok apart from be...     5   \n",
       "6915  HKG-LHR in New Club World on Boeing 777-300 - ...     2   \n",
       "6916  YYZ to LHR - July 2012 - I flew overnight in p...     9   \n",
       "6917  Flew return in CW from LHR to BKK in August 20...     8   \n",
       "6918  LHR to HAM. Purser addresses all club passenge...     4   \n",
       "6919  My son who had worked for British Airways urge...     9   \n",
       "6920  London City-New York JFK via Shannon on A318 b...     1   \n",
       "6921  SIN-LHR BA12 B747-436 First Class. Old aircraf...     8   \n",
       "\n",
       "                   date             country  \n",
       "6912   29th August 2012   (United Kingdom)   \n",
       "6913   29th August 2012   (United Kingdom)   \n",
       "6914   29th August 2012   (United Kingdom)   \n",
       "6915   29th August 2012   (United Kingdom)   \n",
       "6916   29th August 2012           (Canada)   \n",
       "6917   29th August 2012          (Ireland)   \n",
       "6918   28th August 2012   (United Kingdom)   \n",
       "6919  12th October 2011   (United Kingdom)   \n",
       "6920  11th October 2011    (United States)   \n",
       "6921   9th October 2011   (United Kingdom)   "
      ]
     },
     "execution_count": 10,
     "metadata": {},
     "output_type": "execute_result"
    }
   ],
   "source": [
    "BA_clean.tail(10) #bottom 5 in columns"
   ]
  },
  {
   "cell_type": "markdown",
   "id": "58158934",
   "metadata": {},
   "source": [
    "##### Lets check for verified users who have actually travelled British Airways and create a seperate dataframe . In that way we can find actual insight from travellers who have travelled with us "
   ]
  },
  {
   "cell_type": "code",
   "execution_count": 11,
   "id": "20c920b6",
   "metadata": {},
   "outputs": [],
   "source": [
    "BA_clean['verified']= BA_clean.reviews.str.contains('Trip Verified')"
   ]
  },
  {
   "cell_type": "code",
   "execution_count": 13,
   "id": "17105880",
   "metadata": {},
   "outputs": [
    {
     "data": {
      "text/plain": [
       "0        True\n",
       "1       False\n",
       "2       False\n",
       "3        True\n",
       "4        True\n",
       "        ...  \n",
       "6917    False\n",
       "6918    False\n",
       "6919    False\n",
       "6920    False\n",
       "6921    False\n",
       "Name: verified, Length: 6922, dtype: bool"
      ]
     },
     "execution_count": 13,
     "metadata": {},
     "output_type": "execute_result"
    }
   ],
   "source": [
    "BA_clean['verified']"
   ]
  },
  {
   "cell_type": "markdown",
   "id": "0b249946",
   "metadata": {},
   "source": [
    "#### Now lets clean the data using this dataframe . We will be using lemmatization from Nltk library."
   ]
  },
  {
   "cell_type": "code",
   "execution_count": 25,
   "id": "2d96f714",
   "metadata": {
    "scrolled": true
   },
   "outputs": [
    {
     "name": "stdout",
     "output_type": "stream",
     "text": [
      "Requirement already satisfied: nltk in c:\\users\\rakesh\\appdata\\local\\programs\\python\\python311\\lib\\site-packages (3.8.1)\n",
      "Requirement already satisfied: click in c:\\users\\rakesh\\appdata\\local\\programs\\python\\python311\\lib\\site-packages (from nltk) (8.1.3)\n",
      "Requirement already satisfied: joblib in c:\\users\\rakesh\\appdata\\local\\programs\\python\\python311\\lib\\site-packages (from nltk) (1.2.0)\n",
      "Requirement already satisfied: regex>=2021.8.3 in c:\\users\\rakesh\\appdata\\local\\programs\\python\\python311\\lib\\site-packages (from nltk) (2022.10.31)\n",
      "Requirement already satisfied: tqdm in c:\\users\\rakesh\\appdata\\local\\programs\\python\\python311\\lib\\site-packages (from nltk) (4.64.1)\n",
      "Requirement already satisfied: colorama in c:\\users\\rakesh\\appdata\\local\\programs\\python\\python311\\lib\\site-packages (from click->nltk) (0.4.6)\n"
     ]
    },
    {
     "name": "stderr",
     "output_type": "stream",
     "text": [
      "[nltk_data] Downloading package wordnet to\n",
      "[nltk_data]     C:\\Users\\Rakesh\\AppData\\Roaming\\nltk_data...\n"
     ]
    },
    {
     "data": {
      "text/plain": [
       "True"
      ]
     },
     "execution_count": 25,
     "metadata": {},
     "output_type": "execute_result"
    }
   ],
   "source": [
    "!pip install nltk\n",
    "import nltk\n",
    "nltk.download('wordnet')"
   ]
  },
  {
   "cell_type": "code",
   "execution_count": 26,
   "id": "f8da726b",
   "metadata": {},
   "outputs": [],
   "source": [
    "from nltk.stem import WordNetLemmatizer\n",
    "from nltk.corpus import stopwords \n",
    "lemma = WordNetLemmatizer()\n",
    "\n",
    "reviews_data = BA_clean.reviews.str.strip('✅ Trip Verified |') \n",
    "\n",
    "#creating an empty list for collecting cleaned data\n",
    "corpus = []\n",
    "\n",
    "#looping through each reviews for removing punctuation, making it into small case and combining it and later adding it to corpus#\n",
    "\n",
    "for rev in reviews_data:\n",
    "    rev = re.sub('[^a-zA-Z]',' ', rev)\n",
    "    rev = rev.lower()\n",
    "    rev = rev.split()\n",
    "    rev = [lemma.lemmatize(word) for word in rev if word not in set(stopwords.words('english'))]\n",
    "    rev = \" \".join(rev)\n",
    "    corpus.append(rev)\n"
   ]
  },
  {
   "cell_type": "code",
   "execution_count": 27,
   "id": "d6f7c0ad",
   "metadata": {},
   "outputs": [],
   "source": [
    "# Adding Corpus to our dataframe \n",
    "BA_clean['corpus'] = corpus"
   ]
  },
  {
   "cell_type": "code",
   "execution_count": 28,
   "id": "df69247b",
   "metadata": {},
   "outputs": [
    {
     "data": {
      "text/html": [
       "<div>\n",
       "<style scoped>\n",
       "    .dataframe tbody tr th:only-of-type {\n",
       "        vertical-align: middle;\n",
       "    }\n",
       "\n",
       "    .dataframe tbody tr th {\n",
       "        vertical-align: top;\n",
       "    }\n",
       "\n",
       "    .dataframe thead th {\n",
       "        text-align: right;\n",
       "    }\n",
       "</style>\n",
       "<table border=\"1\" class=\"dataframe\">\n",
       "  <thead>\n",
       "    <tr style=\"text-align: right;\">\n",
       "      <th></th>\n",
       "      <th>reviews</th>\n",
       "      <th>stars</th>\n",
       "      <th>date</th>\n",
       "      <th>country</th>\n",
       "      <th>verified</th>\n",
       "      <th>corpus</th>\n",
       "    </tr>\n",
       "  </thead>\n",
       "  <tbody>\n",
       "    <tr>\n",
       "      <th>0</th>\n",
       "      <td>✅ Trip Verified |  This flight was one of the ...</td>\n",
       "      <td>\\n\\t\\t\\t\\t\\t\\t\\t\\t\\t\\t\\t\\t\\t5</td>\n",
       "      <td>21st January 2023</td>\n",
       "      <td>(United Kingdom)</td>\n",
       "      <td>True</td>\n",
       "      <td>flight one worst ever life wanted pamper bough...</td>\n",
       "    </tr>\n",
       "    <tr>\n",
       "      <th>1</th>\n",
       "      <td>Not Verified | It seems that there is a race t...</td>\n",
       "      <td>2</td>\n",
       "      <td>19th January 2023</td>\n",
       "      <td>(United States)</td>\n",
       "      <td>False</td>\n",
       "      <td>verified seems race bottom amongst airline can...</td>\n",
       "    </tr>\n",
       "    <tr>\n",
       "      <th>2</th>\n",
       "      <td>Not Verified |  As a Spanish born individual l...</td>\n",
       "      <td>3</td>\n",
       "      <td>19th January 2023</td>\n",
       "      <td>(United Kingdom)</td>\n",
       "      <td>False</td>\n",
       "      <td>verified spanish born individual living englan...</td>\n",
       "    </tr>\n",
       "    <tr>\n",
       "      <th>3</th>\n",
       "      <td>✅ Trip Verified |  A rather empty and quiet fl...</td>\n",
       "      <td>2</td>\n",
       "      <td>18th January 2023</td>\n",
       "      <td>(United Kingdom)</td>\n",
       "      <td>True</td>\n",
       "      <td>rather empty quiet flight tel aviv friendly ca...</td>\n",
       "    </tr>\n",
       "    <tr>\n",
       "      <th>4</th>\n",
       "      <td>✅ Trip Verified |  Easy check in and staff mem...</td>\n",
       "      <td>9</td>\n",
       "      <td>17th January 2023</td>\n",
       "      <td>(United Kingdom)</td>\n",
       "      <td>True</td>\n",
       "      <td>easy check staff member polite helpful made sp...</td>\n",
       "    </tr>\n",
       "  </tbody>\n",
       "</table>\n",
       "</div>"
      ],
      "text/plain": [
       "                                             reviews  \\\n",
       "0  ✅ Trip Verified |  This flight was one of the ...   \n",
       "1  Not Verified | It seems that there is a race t...   \n",
       "2  Not Verified |  As a Spanish born individual l...   \n",
       "3  ✅ Trip Verified |  A rather empty and quiet fl...   \n",
       "4  ✅ Trip Verified |  Easy check in and staff mem...   \n",
       "\n",
       "                           stars               date             country  \\\n",
       "0  \\n\\t\\t\\t\\t\\t\\t\\t\\t\\t\\t\\t\\t\\t5  21st January 2023   (United Kingdom)    \n",
       "1                              2  19th January 2023    (United States)    \n",
       "2                              3  19th January 2023   (United Kingdom)    \n",
       "3                              2  18th January 2023   (United Kingdom)    \n",
       "4                              9  17th January 2023   (United Kingdom)    \n",
       "\n",
       "   verified                                             corpus  \n",
       "0      True  flight one worst ever life wanted pamper bough...  \n",
       "1     False  verified seems race bottom amongst airline can...  \n",
       "2     False  verified spanish born individual living englan...  \n",
       "3      True  rather empty quiet flight tel aviv friendly ca...  \n",
       "4      True  easy check staff member polite helpful made sp...  "
      ]
     },
     "execution_count": 28,
     "metadata": {},
     "output_type": "execute_result"
    }
   ],
   "source": [
    "BA_clean.head()"
   ]
  },
  {
   "cell_type": "markdown",
   "id": "89585ed2",
   "metadata": {},
   "source": [
    "##### Now it been added let format date and also Review "
   ]
  },
  {
   "cell_type": "code",
   "execution_count": 29,
   "id": "b6239981",
   "metadata": {},
   "outputs": [
    {
     "data": {
      "text/plain": [
       "reviews     object\n",
       "stars       object\n",
       "date        object\n",
       "country     object\n",
       "verified      bool\n",
       "corpus      object\n",
       "dtype: object"
      ]
     },
     "execution_count": 29,
     "metadata": {},
     "output_type": "execute_result"
    }
   ],
   "source": [
    "BA_clean.dtypes"
   ]
  },
  {
   "cell_type": "code",
   "execution_count": 37,
   "id": "bd5ec7ea",
   "metadata": {},
   "outputs": [],
   "source": [
    "#converting it to datetime format\n",
    "BA_clean.date = pd.to_datetime(BA_clean.date)"
   ]
  },
  {
   "cell_type": "code",
   "execution_count": 38,
   "id": "76769999",
   "metadata": {},
   "outputs": [
    {
     "data": {
      "text/plain": [
       "0   2023-01-21\n",
       "1   2023-01-19\n",
       "2   2023-01-19\n",
       "3   2023-01-18\n",
       "4   2023-01-17\n",
       "Name: date, dtype: datetime64[ns]"
      ]
     },
     "execution_count": 38,
     "metadata": {},
     "output_type": "execute_result"
    }
   ],
   "source": [
    "BA_clean.date.head()"
   ]
  },
  {
   "cell_type": "markdown",
   "id": "7f623af7",
   "metadata": {},
   "source": [
    "##### Now time to clean Review column"
   ]
  },
  {
   "cell_type": "code",
   "execution_count": 41,
   "id": "4e9a138f",
   "metadata": {},
   "outputs": [
    {
     "data": {
      "text/plain": [
       "array(['\\n\\t\\t\\t\\t\\t\\t\\t\\t\\t\\t\\t\\t\\t5', '2', '3', '9', '1', '4', '5', '8',\n",
       "       '6', '7', '10', 'None'], dtype=object)"
      ]
     },
     "execution_count": 41,
     "metadata": {},
     "output_type": "execute_result"
    }
   ],
   "source": [
    "BA_clean.stars.unique()"
   ]
  },
  {
   "cell_type": "markdown",
   "id": "7662437d",
   "metadata": {},
   "source": [
    "##### above columns contain unwanted \\ and alphabets . lets strip those"
   ]
  },
  {
   "cell_type": "code",
   "execution_count": 42,
   "id": "e0b9f3d7",
   "metadata": {},
   "outputs": [],
   "source": [
    "BA_clean.stars= BA_clean.stars.str.strip('\\n\\t\\t\\t\\t\\t\\t\\t\\t\\t\\t\\t\\t\\t')"
   ]
  },
  {
   "cell_type": "code",
   "execution_count": 44,
   "id": "884d77c5",
   "metadata": {},
   "outputs": [
    {
     "data": {
      "text/plain": [
       "1       1491\n",
       "2        777\n",
       "3        766\n",
       "8        705\n",
       "10       620\n",
       "7        602\n",
       "9        595\n",
       "5        519\n",
       "4        472\n",
       "6        365\n",
       "None      10\n",
       "Name: stars, dtype: int64"
      ]
     },
     "execution_count": 44,
     "metadata": {},
     "output_type": "execute_result"
    }
   ],
   "source": [
    "BA_clean.stars.value_counts()"
   ]
  },
  {
   "cell_type": "markdown",
   "id": "57f892d3",
   "metadata": {},
   "source": [
    "- There are 10 row which have None ratings which should be removed"
   ]
  },
  {
   "cell_type": "code",
   "execution_count": 46,
   "id": "989ff069",
   "metadata": {},
   "outputs": [],
   "source": [
    "BA_clean.drop(BA_clean[BA_clean.stars == 'None'].index, axis=0, inplace=True)"
   ]
  },
  {
   "cell_type": "code",
   "execution_count": 47,
   "id": "b5317fe9",
   "metadata": {},
   "outputs": [
    {
     "data": {
      "text/plain": [
       "array(['5', '2', '3', '9', '1', '4', '8', '6', '7', '10'], dtype=object)"
      ]
     },
     "execution_count": 47,
     "metadata": {},
     "output_type": "execute_result"
    }
   ],
   "source": [
    "BA_clean.stars.unique()"
   ]
  },
  {
   "cell_type": "markdown",
   "id": "70ef8328",
   "metadata": {},
   "source": [
    "#### lets Check null value"
   ]
  },
  {
   "cell_type": "code",
   "execution_count": 49,
   "id": "05bc6a0e",
   "metadata": {},
   "outputs": [
    {
     "data": {
      "text/plain": [
       "reviews  stars  date   country  verified  corpus\n",
       "False    False  False  False    False     False     6912\n",
       "dtype: int64"
      ]
     },
     "execution_count": 49,
     "metadata": {},
     "output_type": "execute_result"
    }
   ],
   "source": [
    "BA_clean.isnull().value_counts()"
   ]
  },
  {
   "cell_type": "code",
   "execution_count": 50,
   "id": "5beb1e69",
   "metadata": {},
   "outputs": [
    {
     "data": {
      "text/plain": [
       "False    6912\n",
       "Name: country, dtype: int64"
      ]
     },
     "execution_count": 50,
     "metadata": {},
     "output_type": "execute_result"
    }
   ],
   "source": [
    "BA_clean.country.isnull().value_counts()"
   ]
  },
  {
   "cell_type": "markdown",
   "id": "a5e4ffe5",
   "metadata": {},
   "source": [
    "-- There are Missing values in the country columns . We can remove those from dataframes "
   ]
  },
  {
   "cell_type": "code",
   "execution_count": 52,
   "id": "52a987a1",
   "metadata": {},
   "outputs": [],
   "source": [
    "BA_clean.drop(BA_clean[BA_clean.country.isnull() == True].index, axis=0, inplace=True)"
   ]
  },
  {
   "cell_type": "code",
   "execution_count": 54,
   "id": "a7673a02",
   "metadata": {},
   "outputs": [
    {
     "data": {
      "text/plain": [
       "(6912, 6)"
      ]
     },
     "execution_count": 54,
     "metadata": {},
     "output_type": "execute_result"
    }
   ],
   "source": [
    "BA_clean.shape"
   ]
  },
  {
   "cell_type": "markdown",
   "id": "bfc58e53",
   "metadata": {},
   "source": [
    "##### Reset the index"
   ]
  },
  {
   "cell_type": "code",
   "execution_count": 55,
   "id": "9f9b6fc0",
   "metadata": {},
   "outputs": [
    {
     "data": {
      "text/html": [
       "<div>\n",
       "<style scoped>\n",
       "    .dataframe tbody tr th:only-of-type {\n",
       "        vertical-align: middle;\n",
       "    }\n",
       "\n",
       "    .dataframe tbody tr th {\n",
       "        vertical-align: top;\n",
       "    }\n",
       "\n",
       "    .dataframe thead th {\n",
       "        text-align: right;\n",
       "    }\n",
       "</style>\n",
       "<table border=\"1\" class=\"dataframe\">\n",
       "  <thead>\n",
       "    <tr style=\"text-align: right;\">\n",
       "      <th></th>\n",
       "      <th>reviews</th>\n",
       "      <th>stars</th>\n",
       "      <th>date</th>\n",
       "      <th>country</th>\n",
       "      <th>verified</th>\n",
       "      <th>corpus</th>\n",
       "    </tr>\n",
       "  </thead>\n",
       "  <tbody>\n",
       "    <tr>\n",
       "      <th>0</th>\n",
       "      <td>✅ Trip Verified |  This flight was one of the ...</td>\n",
       "      <td>5</td>\n",
       "      <td>2023-01-21</td>\n",
       "      <td>(United Kingdom)</td>\n",
       "      <td>True</td>\n",
       "      <td>flight one worst ever life wanted pamper bough...</td>\n",
       "    </tr>\n",
       "    <tr>\n",
       "      <th>1</th>\n",
       "      <td>Not Verified | It seems that there is a race t...</td>\n",
       "      <td>2</td>\n",
       "      <td>2023-01-19</td>\n",
       "      <td>(United States)</td>\n",
       "      <td>False</td>\n",
       "      <td>verified seems race bottom amongst airline can...</td>\n",
       "    </tr>\n",
       "    <tr>\n",
       "      <th>2</th>\n",
       "      <td>Not Verified |  As a Spanish born individual l...</td>\n",
       "      <td>3</td>\n",
       "      <td>2023-01-19</td>\n",
       "      <td>(United Kingdom)</td>\n",
       "      <td>False</td>\n",
       "      <td>verified spanish born individual living englan...</td>\n",
       "    </tr>\n",
       "    <tr>\n",
       "      <th>3</th>\n",
       "      <td>✅ Trip Verified |  A rather empty and quiet fl...</td>\n",
       "      <td>2</td>\n",
       "      <td>2023-01-18</td>\n",
       "      <td>(United Kingdom)</td>\n",
       "      <td>True</td>\n",
       "      <td>rather empty quiet flight tel aviv friendly ca...</td>\n",
       "    </tr>\n",
       "    <tr>\n",
       "      <th>4</th>\n",
       "      <td>✅ Trip Verified |  Easy check in and staff mem...</td>\n",
       "      <td>9</td>\n",
       "      <td>2023-01-17</td>\n",
       "      <td>(United Kingdom)</td>\n",
       "      <td>True</td>\n",
       "      <td>easy check staff member polite helpful made sp...</td>\n",
       "    </tr>\n",
       "    <tr>\n",
       "      <th>...</th>\n",
       "      <td>...</td>\n",
       "      <td>...</td>\n",
       "      <td>...</td>\n",
       "      <td>...</td>\n",
       "      <td>...</td>\n",
       "      <td>...</td>\n",
       "    </tr>\n",
       "    <tr>\n",
       "      <th>6907</th>\n",
       "      <td>Flew return in CW from LHR to BKK in August 20...</td>\n",
       "      <td>8</td>\n",
       "      <td>2012-08-29</td>\n",
       "      <td>(Ireland)</td>\n",
       "      <td>False</td>\n",
       "      <td>flew return cw lhr bkk august positive flight ...</td>\n",
       "    </tr>\n",
       "    <tr>\n",
       "      <th>6908</th>\n",
       "      <td>LHR to HAM. Purser addresses all club passenge...</td>\n",
       "      <td>4</td>\n",
       "      <td>2012-08-28</td>\n",
       "      <td>(United Kingdom)</td>\n",
       "      <td>False</td>\n",
       "      <td>lhr ham purser address club passenger name boa...</td>\n",
       "    </tr>\n",
       "    <tr>\n",
       "      <th>6909</th>\n",
       "      <td>My son who had worked for British Airways urge...</td>\n",
       "      <td>9</td>\n",
       "      <td>2011-10-12</td>\n",
       "      <td>(United Kingdom)</td>\n",
       "      <td>False</td>\n",
       "      <td>son worked british airway urged fly british ai...</td>\n",
       "    </tr>\n",
       "    <tr>\n",
       "      <th>6910</th>\n",
       "      <td>London City-New York JFK via Shannon on A318 b...</td>\n",
       "      <td>1</td>\n",
       "      <td>2011-10-11</td>\n",
       "      <td>(United States)</td>\n",
       "      <td>False</td>\n",
       "      <td>london city new york jfk via shannon really ni...</td>\n",
       "    </tr>\n",
       "    <tr>\n",
       "      <th>6911</th>\n",
       "      <td>SIN-LHR BA12 B747-436 First Class. Old aircraf...</td>\n",
       "      <td>8</td>\n",
       "      <td>2011-10-09</td>\n",
       "      <td>(United Kingdom)</td>\n",
       "      <td>False</td>\n",
       "      <td>sin lhr ba b first class old aircraft seat pri...</td>\n",
       "    </tr>\n",
       "  </tbody>\n",
       "</table>\n",
       "<p>6912 rows × 6 columns</p>\n",
       "</div>"
      ],
      "text/plain": [
       "                                                reviews stars       date  \\\n",
       "0     ✅ Trip Verified |  This flight was one of the ...     5 2023-01-21   \n",
       "1     Not Verified | It seems that there is a race t...     2 2023-01-19   \n",
       "2     Not Verified |  As a Spanish born individual l...     3 2023-01-19   \n",
       "3     ✅ Trip Verified |  A rather empty and quiet fl...     2 2023-01-18   \n",
       "4     ✅ Trip Verified |  Easy check in and staff mem...     9 2023-01-17   \n",
       "...                                                 ...   ...        ...   \n",
       "6907  Flew return in CW from LHR to BKK in August 20...     8 2012-08-29   \n",
       "6908  LHR to HAM. Purser addresses all club passenge...     4 2012-08-28   \n",
       "6909  My son who had worked for British Airways urge...     9 2011-10-12   \n",
       "6910  London City-New York JFK via Shannon on A318 b...     1 2011-10-11   \n",
       "6911  SIN-LHR BA12 B747-436 First Class. Old aircraf...     8 2011-10-09   \n",
       "\n",
       "                 country  verified  \\\n",
       "0      (United Kingdom)       True   \n",
       "1       (United States)      False   \n",
       "2      (United Kingdom)      False   \n",
       "3      (United Kingdom)       True   \n",
       "4      (United Kingdom)       True   \n",
       "...                  ...       ...   \n",
       "6907          (Ireland)      False   \n",
       "6908   (United Kingdom)      False   \n",
       "6909   (United Kingdom)      False   \n",
       "6910    (United States)      False   \n",
       "6911   (United Kingdom)      False   \n",
       "\n",
       "                                                 corpus  \n",
       "0     flight one worst ever life wanted pamper bough...  \n",
       "1     verified seems race bottom amongst airline can...  \n",
       "2     verified spanish born individual living englan...  \n",
       "3     rather empty quiet flight tel aviv friendly ca...  \n",
       "4     easy check staff member polite helpful made sp...  \n",
       "...                                                 ...  \n",
       "6907  flew return cw lhr bkk august positive flight ...  \n",
       "6908  lhr ham purser address club passenger name boa...  \n",
       "6909  son worked british airway urged fly british ai...  \n",
       "6910  london city new york jfk via shannon really ni...  \n",
       "6911  sin lhr ba b first class old aircraft seat pri...  \n",
       "\n",
       "[6912 rows x 6 columns]"
      ]
     },
     "execution_count": 55,
     "metadata": {},
     "output_type": "execute_result"
    }
   ],
   "source": [
    "BA_clean.reset_index(drop=True)"
   ]
  },
  {
   "cell_type": "markdown",
   "id": "969195c2",
   "metadata": {},
   "source": [
    "#### Data is clean and ready for further analysis and visualization "
   ]
  },
  {
   "cell_type": "code",
   "execution_count": 58,
   "id": "77fbeef7",
   "metadata": {},
   "outputs": [],
   "source": [
    "#Exporting as Csv \n",
    "cwd = os.getcwd()\n",
    "BA_clean.to_csv(cwd + \"/cleaned-BA-reviews.csv\")"
   ]
  },
  {
   "cell_type": "code",
   "execution_count": null,
   "id": "e6ac4d42",
   "metadata": {},
   "outputs": [],
   "source": []
  }
 ],
 "metadata": {
  "kernelspec": {
   "display_name": "Python 3 (ipykernel)",
   "language": "python",
   "name": "python3"
  },
  "language_info": {
   "codemirror_mode": {
    "name": "ipython",
    "version": 3
   },
   "file_extension": ".py",
   "mimetype": "text/x-python",
   "name": "python",
   "nbconvert_exporter": "python",
   "pygments_lexer": "ipython3",
   "version": "3.11.1"
  }
 },
 "nbformat": 4,
 "nbformat_minor": 5
}
